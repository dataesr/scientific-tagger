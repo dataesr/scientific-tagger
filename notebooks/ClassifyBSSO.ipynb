{
 "cells": [
  {
   "cell_type": "code",
   "execution_count": 1,
   "metadata": {},
   "outputs": [],
   "source": [
    "import requests"
   ]
  },
  {
   "cell_type": "code",
   "execution_count": 2,
   "metadata": {},
   "outputs": [],
   "source": [
    "publications = [{'abstract': 'The head-neck system of birds is a highly complex structure that performs a variety of demanding and competing tasks. Morphofunctional adaptations to feeding specializations have previously been identified in the head and neck, but performance is also influenced by other factors such as its phylogenetic history. In order to minimize the effects of this factor, we here analyzed the anatomy of three closely related vultures that distinctly differ in feeding strategy. Vultures, as obligate scavengers, have occupied a special ecological niche by exclusively feeding on carrion. However, competition among sympatric vultures led to ecological differences such as preference of certain types of food from a carcass. Via comparative dissections we systematically described the craniocervical anatomy in the Griffon vulture (Gyps fulvus), the Cinereous vulture (Aegypius monachus) and the Hooded vulture (Necrosyrtes monachus) that exploit the same food resources in different ways. Our results revealed differences in the number of cervical vertebrae, in the morphology of the atlas-axis complex as well as in the neck musculature despite overall similarities in the musculoskeletal system. Gulpers, rippers and scrappers adopt specific postures while feeding from a carcass, but the cervical vertebral column is indispensable to position the head during all kinds of behavior. The great range of demands may explain the conservation of the overall muscle topography of the neck across the studied taxa.',\n",
    "  'doi': '10.1111/joa.13129',\n",
    "  'journal_name': 'Journal of Anatomy',\n",
    "  'journal_title': 'Journal of anatomy',\n",
    "  'keywords': ['birds',\n",
    "   'craniocervical anatomy',\n",
    "   'ecology',\n",
    "   'muscular adaptations',\n",
    "   'scavengers'],\n",
    "  'language': 'en',\n",
    "  'mesh_headings': ['Animals',\n",
    "   'Falconiformes__anatomy & histology',\n",
    "   'Neck__anatomy & histology',\n",
    "   'Neck Muscles__anatomy & histology',\n",
    "   'Phylogeny'],\n",
    "  'pmid': 31885086.0,\n",
    "  'title': 'Gulper, ripper and scrapper: anatomy of the neck in three species of vultures.'}]"
   ]
  },
  {
   "cell_type": "code",
   "execution_count": 3,
   "metadata": {},
   "outputs": [
    {
     "data": {
      "text/plain": [
       "{'publications': [{'abstract': 'The head-neck system of birds is a highly complex structure that performs a variety of demanding and competing tasks. Morphofunctional adaptations to feeding specializations have previously been identified in the head and neck, but performance is also influenced by other factors such as its phylogenetic history. In order to minimize the effects of this factor, we here analyzed the anatomy of three closely related vultures that distinctly differ in feeding strategy. Vultures, as obligate scavengers, have occupied a special ecological niche by exclusively feeding on carrion. However, competition among sympatric vultures led to ecological differences such as preference of certain types of food from a carcass. Via comparative dissections we systematically described the craniocervical anatomy in the Griffon vulture (Gyps fulvus), the Cinereous vulture (Aegypius monachus) and the Hooded vulture (Necrosyrtes monachus) that exploit the same food resources in different ways. Our results revealed differences in the number of cervical vertebrae, in the morphology of the atlas-axis complex as well as in the neck musculature despite overall similarities in the musculoskeletal system. Gulpers, rippers and scrappers adopt specific postures while feeding from a carcass, but the cervical vertebral column is indispensable to position the head during all kinds of behavior. The great range of demands may explain the conservation of the overall muscle topography of the neck across the studied taxa.',\n",
       "   'bsso_classification': {'field': ['Biomedical Engineering'],\n",
       "    'field_journal_title': ['Biomedical Engineering'],\n",
       "    'models': ['journal_title'],\n",
       "    'weighted_score': 1.5},\n",
       "   'doi': '10.1111/joa.13129',\n",
       "   'journal_name': 'Journal of Anatomy',\n",
       "   'journal_title': 'Journal of anatomy',\n",
       "   'keywords': ['birds',\n",
       "    'craniocervical anatomy',\n",
       "    'ecology',\n",
       "    'muscular adaptations',\n",
       "    'scavengers'],\n",
       "   'language': 'en',\n",
       "   'mesh_headings': ['Animals',\n",
       "    'Falconiformes__anatomy & histology',\n",
       "    'Neck__anatomy & histology',\n",
       "    'Neck Muscles__anatomy & histology',\n",
       "    'Phylogeny'],\n",
       "   'pmid': 31885086.0,\n",
       "   'title': 'Gulper, ripper and scrapper: anatomy of the neck in three species of vultures.'}]}"
      ]
     },
     "execution_count": 3,
     "metadata": {},
     "output_type": "execute_result"
    }
   ],
   "source": [
    "# first call is long as the app has to download the NLP models\n",
    "requests.post(\"http://localhost:5004/classify_one\", json={\"type\": \"bsso\", \"publications\":publications}).json()"
   ]
  },
  {
   "cell_type": "code",
   "execution_count": null,
   "metadata": {},
   "outputs": [],
   "source": []
  }
 ],
 "metadata": {
  "kernelspec": {
   "display_name": "Python 3",
   "language": "python",
   "name": "python3"
  },
  "language_info": {
   "codemirror_mode": {
    "name": "ipython",
    "version": 3
   },
   "file_extension": ".py",
   "mimetype": "text/x-python",
   "name": "python",
   "nbconvert_exporter": "python",
   "pygments_lexer": "ipython3",
   "version": "3.6.5"
  }
 },
 "nbformat": 4,
 "nbformat_minor": 2
}
