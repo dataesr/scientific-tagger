{
 "cells": [
  {
   "cell_type": "code",
   "execution_count": 1,
   "metadata": {},
   "outputs": [],
   "source": [
    "import pandas as pd\n",
    "import requests\n",
    "from bs4 import BeautifulSoup\n",
    "import re\n",
    "import json"
   ]
  },
  {
   "cell_type": "code",
   "execution_count": 2,
   "metadata": {},
   "outputs": [],
   "source": [
    "df_scopus = pd.read_excel('/Users/eric/Downloads/ext_list_October_2020.xlsx')"
   ]
  },
  {
   "cell_type": "code",
   "execution_count": 3,
   "metadata": {},
   "outputs": [],
   "source": [
    "r = requests.get(\"https://service.elsevier.com/app/answers/detail/a_id/15181/supporthub/scopus/\")\n",
    "soup = BeautifulSoup(r.text, 'lxml')\n",
    "\n",
    "asjc = []\n",
    "asjc_dict = {}\n",
    "for tr in soup.findAll('tr')[1:]:\n",
    "    tds = tr.findAll('td')\n",
    "    code = tds[0].text.strip()\n",
    "    field = tds[1].text.strip()\n",
    "    subject_area = tds[2].text.strip()\n",
    "    elem = {\n",
    "        \"code_asjc\": code,\n",
    "        \"field\": field,\n",
    "        \"subject_area\": subject_area\n",
    "    }\n",
    "    asjc_dict[code] = elem\n",
    "    asjc.append(elem)"
   ]
  },
  {
   "cell_type": "code",
   "execution_count": 4,
   "metadata": {},
   "outputs": [
    {
     "name": "stdout",
     "output_type": "stream",
     "text": [
      "3330 missing\n",
      "2290 missing\n"
     ]
    }
   ],
   "source": [
    "data_asjc = []\n",
    "for i, row in df_scopus[['Print-ISSN', 'E-ISSN', 'All Science Journal Classification Codes (ASJC)']].iterrows():\n",
    "    \n",
    "    codes_raw = [c.strip() for c in re.split(';|,',row['All Science Journal Classification Codes (ASJC)'])]\n",
    "    codes=[]\n",
    "    for c in codes_raw:\n",
    "        if len(c) == 0:\n",
    "            continue\n",
    "        if c not in asjc_dict:\n",
    "            print(f\"{c} missing\")\n",
    "            continue\n",
    "        codes.append(asjc_dict[c])\n",
    "    issns = []\n",
    "    issns.append(row['Print-ISSN'])\n",
    "    issns.append(row['E-ISSN'])\n",
    "    issns = [str(i) for i in issns if not pd.isnull(i)]\n",
    "    for i in issns:\n",
    "        if len(i) != 8:\n",
    "            print(f\"weird issn {i}\")\n",
    "        else:\n",
    "            new_line = {\n",
    "                \"issn\": i[0:4]+'-'+i[4:9]\n",
    "            }\n",
    "            new_line['asjc'] = codes\n",
    "            data_asjc.append(new_line)"
   ]
  },
  {
   "cell_type": "code",
   "execution_count": 13,
   "metadata": {},
   "outputs": [],
   "source": [
    "json.dump(data_asjc, open('asjc.json', 'w'), indent=2)"
   ]
  }
 ],
 "metadata": {
  "kernelspec": {
   "display_name": "Python 3",
   "language": "python",
   "name": "python3"
  },
  "language_info": {
   "codemirror_mode": {
    "name": "ipython",
    "version": 3
   },
   "file_extension": ".py",
   "mimetype": "text/x-python",
   "name": "python",
   "nbconvert_exporter": "python",
   "pygments_lexer": "ipython3",
   "version": "3.6.5"
  }
 },
 "nbformat": 4,
 "nbformat_minor": 2
}
